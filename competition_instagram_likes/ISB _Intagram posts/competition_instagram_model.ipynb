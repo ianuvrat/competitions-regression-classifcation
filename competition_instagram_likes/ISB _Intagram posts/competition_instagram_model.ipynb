{
 "cells": [
  {
   "cell_type": "code",
   "execution_count": 48,
   "metadata": {},
   "outputs": [],
   "source": [
    "#Libraries\n",
    "import pandas as pd\n",
    "import numpy as np\n",
    "import seaborn as sns\n",
    "import matplotlib.pyplot as plt\n",
    "%matplotlib inline\n",
    "\n",
    "from sklearn.model_selection import train_test_split, StratifiedKFold\n",
    "from sklearn.metrics import accuracy_score, f1_score\n",
    "\n",
    "from sklearn.linear_model import LinearRegression\n",
    "from sklearn.tree import DecisionTreeRegressor\n",
    "\n",
    "from sklearn.tree import DecisionTreeClassifier\n",
    "from sklearn.ensemble import RandomForestClassifier\n",
    "from sklearn.linear_model import LogisticRegression\n",
    "\n",
    "from lightgbm import LGBMClassifier\n",
    "from catboost import CatBoostRegressor\n",
    "from xgboost import XGBRegressor\n",
    "\n",
    "import warnings\n",
    "warnings.simplefilter('ignore')"
   ]
  },
  {
   "cell_type": "code",
   "execution_count": 49,
   "metadata": {},
   "outputs": [
    {
     "data": {
      "text/plain": [
       "(16539, 23)"
      ]
     },
     "execution_count": 49,
     "metadata": {},
     "output_type": "execute_result"
    }
   ],
   "source": [
    "train = pd.read_csv('C://Users//Anuvrat Shukla//Desktop//competitions//Analytics//ISB _Intagram posts//train1.csv',encoding=\"ISO-8859-1\", parse_dates=[10,11])\n",
    "train.shape"
   ]
  },
  {
   "cell_type": "code",
   "execution_count": 50,
   "metadata": {},
   "outputs": [
    {
     "data": {
      "text/html": [
       "<div>\n",
       "<style scoped>\n",
       "    .dataframe tbody tr th:only-of-type {\n",
       "        vertical-align: middle;\n",
       "    }\n",
       "\n",
       "    .dataframe tbody tr th {\n",
       "        vertical-align: top;\n",
       "    }\n",
       "\n",
       "    .dataframe thead th {\n",
       "        text-align: right;\n",
       "    }\n",
       "</style>\n",
       "<table border=\"1\" class=\"dataframe\">\n",
       "  <thead>\n",
       "    <tr style=\"text-align: right;\">\n",
       "      <th></th>\n",
       "      <th>numberPosts</th>\n",
       "      <th>Website</th>\n",
       "      <th>urlProfile</th>\n",
       "      <th>username</th>\n",
       "      <th>numberFollowing</th>\n",
       "      <th>descriptionProfile</th>\n",
       "      <th>alias</th>\n",
       "      <th>numberFollowers</th>\n",
       "      <th>urlImgProfile</th>\n",
       "      <th>filename</th>\n",
       "      <th>...</th>\n",
       "      <th>mentions</th>\n",
       "      <th>multipleImage</th>\n",
       "      <th>NoOfImages</th>\n",
       "      <th>isVideo</th>\n",
       "      <th>localization</th>\n",
       "      <th>tags</th>\n",
       "      <th>numberLikes</th>\n",
       "      <th>url</th>\n",
       "      <th>high_influencer</th>\n",
       "      <th>description</th>\n",
       "    </tr>\n",
       "  </thead>\n",
       "  <tbody>\n",
       "    <tr>\n",
       "      <th>0</th>\n",
       "      <td>988</td>\n",
       "      <td>www.sylviemeis.de</td>\n",
       "      <td>https://www.instagram.com/1misssmeis/</td>\n",
       "      <td>Sylvie Meis Official Account</td>\n",
       "      <td>233</td>\n",
       "      <td>TV Host Let's Dance for RTL Germany / SBS6 / P...</td>\n",
       "      <td>1misssmeis</td>\n",
       "      <td>720979</td>\n",
       "      <td>https://scontent.cdninstagram.com/t51.2885-19/...</td>\n",
       "      <td>18161288_472089323136061_5128727096486526976_n...</td>\n",
       "      <td>...</td>\n",
       "      <td>['@fraukeludowig_official', '@rtl_exclusiv', '...</td>\n",
       "      <td>0</td>\n",
       "      <td>1</td>\n",
       "      <td>0</td>\n",
       "      <td>NaN</td>\n",
       "      <td>['#exclusivspezial']</td>\n",
       "      <td>10047</td>\n",
       "      <td>https://www.instagram.com/p/BTdS7XgBe4X/?taken...</td>\n",
       "      <td>0</td>\n",
       "      <td>With my lovely colleague @fraukeludowig_offici...</td>\n",
       "    </tr>\n",
       "  </tbody>\n",
       "</table>\n",
       "<p>1 rows × 23 columns</p>\n",
       "</div>"
      ],
      "text/plain": [
       "   numberPosts            Website                             urlProfile  \\\n",
       "0          988  www.sylviemeis.de  https://www.instagram.com/1misssmeis/   \n",
       "\n",
       "                       username  numberFollowing  \\\n",
       "0  Sylvie Meis Official Account              233   \n",
       "\n",
       "                                  descriptionProfile       alias  \\\n",
       "0  TV Host Let's Dance for RTL Germany / SBS6 / P...  1misssmeis   \n",
       "\n",
       "   numberFollowers                                      urlImgProfile  \\\n",
       "0           720979  https://scontent.cdninstagram.com/t51.2885-19/...   \n",
       "\n",
       "                                            filename  ...  \\\n",
       "0  18161288_472089323136061_5128727096486526976_n...  ...   \n",
       "\n",
       "                                            mentions multipleImage NoOfImages  \\\n",
       "0  ['@fraukeludowig_official', '@rtl_exclusiv', '...             0          1   \n",
       "\n",
       "  isVideo  localization                  tags  numberLikes  \\\n",
       "0       0           NaN  ['#exclusivspezial']        10047   \n",
       "\n",
       "                                                 url high_influencer  \\\n",
       "0  https://www.instagram.com/p/BTdS7XgBe4X/?taken...               0   \n",
       "\n",
       "                                         description  \n",
       "0  With my lovely colleague @fraukeludowig_offici...  \n",
       "\n",
       "[1 rows x 23 columns]"
      ]
     },
     "execution_count": 50,
     "metadata": {},
     "output_type": "execute_result"
    }
   ],
   "source": [
    "train.head(1)"
   ]
  },
  {
   "cell_type": "markdown",
   "metadata": {},
   "source": [
    "**Removing URL features**"
   ]
  },
  {
   "cell_type": "code",
   "execution_count": 51,
   "metadata": {},
   "outputs": [],
   "source": [
    "train=train.drop(['Website','urlProfile','urlImgProfile','urlImage','url'], axis = 1)"
   ]
  },
  {
   "cell_type": "markdown",
   "metadata": {},
   "source": [
    "**Extracting Date Featurees**"
   ]
  },
  {
   "cell_type": "code",
   "execution_count": 52,
   "metadata": {},
   "outputs": [],
   "source": [
    "for attr in ['year', 'month', 'day', 'week', 'dayofweek']:                                                                     # running loop for extracting new features from date\n",
    "  train[attr] = getattr(train['Date'].dt, attr)"
   ]
  },
  {
   "cell_type": "code",
   "execution_count": 53,
   "metadata": {},
   "outputs": [
    {
     "data": {
      "text/html": [
       "<div>\n",
       "<style scoped>\n",
       "    .dataframe tbody tr th:only-of-type {\n",
       "        vertical-align: middle;\n",
       "    }\n",
       "\n",
       "    .dataframe tbody tr th {\n",
       "        vertical-align: top;\n",
       "    }\n",
       "\n",
       "    .dataframe thead th {\n",
       "        text-align: right;\n",
       "    }\n",
       "</style>\n",
       "<table border=\"1\" class=\"dataframe\">\n",
       "  <thead>\n",
       "    <tr style=\"text-align: right;\">\n",
       "      <th></th>\n",
       "      <th>numberPosts</th>\n",
       "      <th>username</th>\n",
       "      <th>numberFollowing</th>\n",
       "      <th>descriptionProfile</th>\n",
       "      <th>alias</th>\n",
       "      <th>numberFollowers</th>\n",
       "      <th>filename</th>\n",
       "      <th>Date</th>\n",
       "      <th>Time</th>\n",
       "      <th>mentions</th>\n",
       "      <th>...</th>\n",
       "      <th>localization</th>\n",
       "      <th>tags</th>\n",
       "      <th>numberLikes</th>\n",
       "      <th>high_influencer</th>\n",
       "      <th>description</th>\n",
       "      <th>year</th>\n",
       "      <th>month</th>\n",
       "      <th>day</th>\n",
       "      <th>week</th>\n",
       "      <th>dayofweek</th>\n",
       "    </tr>\n",
       "  </thead>\n",
       "  <tbody>\n",
       "    <tr>\n",
       "      <th>0</th>\n",
       "      <td>988</td>\n",
       "      <td>Sylvie Meis Official Account</td>\n",
       "      <td>233</td>\n",
       "      <td>TV Host Let's Dance for RTL Germany / SBS6 / P...</td>\n",
       "      <td>1misssmeis</td>\n",
       "      <td>720979</td>\n",
       "      <td>18161288_472089323136061_5128727096486526976_n...</td>\n",
       "      <td>2017-04-29</td>\n",
       "      <td>2020-12-06</td>\n",
       "      <td>['@fraukeludowig_official', '@rtl_exclusiv', '...</td>\n",
       "      <td>...</td>\n",
       "      <td>NaN</td>\n",
       "      <td>['#exclusivspezial']</td>\n",
       "      <td>10047</td>\n",
       "      <td>0</td>\n",
       "      <td>With my lovely colleague @fraukeludowig_offici...</td>\n",
       "      <td>2017</td>\n",
       "      <td>4</td>\n",
       "      <td>29</td>\n",
       "      <td>17</td>\n",
       "      <td>5</td>\n",
       "    </tr>\n",
       "    <tr>\n",
       "      <th>1</th>\n",
       "      <td>988</td>\n",
       "      <td>Sylvie Meis Official Account</td>\n",
       "      <td>233</td>\n",
       "      <td>TV Host Let's Dance for RTL Germany / SBS6 / P...</td>\n",
       "      <td>1misssmeis</td>\n",
       "      <td>720979</td>\n",
       "      <td>18161312_678529115665252_1780327406628765696_n...</td>\n",
       "      <td>2017-04-29</td>\n",
       "      <td>2020-12-06</td>\n",
       "      <td>['@tine', '@rachelzoe', '@lecolook', '@letsdan...</td>\n",
       "      <td>...</td>\n",
       "      <td>NaN</td>\n",
       "      <td>['#jumpsuit', '#glam', '#ootn']</td>\n",
       "      <td>16781</td>\n",
       "      <td>0</td>\n",
       "      <td>My look last night, hosting Let's Dance! Style...</td>\n",
       "      <td>2017</td>\n",
       "      <td>4</td>\n",
       "      <td>29</td>\n",
       "      <td>17</td>\n",
       "      <td>5</td>\n",
       "    </tr>\n",
       "  </tbody>\n",
       "</table>\n",
       "<p>2 rows × 23 columns</p>\n",
       "</div>"
      ],
      "text/plain": [
       "   numberPosts                      username  numberFollowing  \\\n",
       "0          988  Sylvie Meis Official Account              233   \n",
       "1          988  Sylvie Meis Official Account              233   \n",
       "\n",
       "                                  descriptionProfile       alias  \\\n",
       "0  TV Host Let's Dance for RTL Germany / SBS6 / P...  1misssmeis   \n",
       "1  TV Host Let's Dance for RTL Germany / SBS6 / P...  1misssmeis   \n",
       "\n",
       "   numberFollowers                                           filename  \\\n",
       "0           720979  18161288_472089323136061_5128727096486526976_n...   \n",
       "1           720979  18161312_678529115665252_1780327406628765696_n...   \n",
       "\n",
       "        Date       Time                                           mentions  \\\n",
       "0 2017-04-29 2020-12-06  ['@fraukeludowig_official', '@rtl_exclusiv', '...   \n",
       "1 2017-04-29 2020-12-06  ['@tine', '@rachelzoe', '@lecolook', '@letsdan...   \n",
       "\n",
       "   ...  localization                             tags  numberLikes  \\\n",
       "0  ...           NaN             ['#exclusivspezial']        10047   \n",
       "1  ...           NaN  ['#jumpsuit', '#glam', '#ootn']        16781   \n",
       "\n",
       "  high_influencer                                        description  year  \\\n",
       "0               0  With my lovely colleague @fraukeludowig_offici...  2017   \n",
       "1               0  My look last night, hosting Let's Dance! Style...  2017   \n",
       "\n",
       "   month day  week  dayofweek  \n",
       "0      4  29    17          5  \n",
       "1      4  29    17          5  \n",
       "\n",
       "[2 rows x 23 columns]"
      ]
     },
     "execution_count": 53,
     "metadata": {},
     "output_type": "execute_result"
    }
   ],
   "source": [
    "train.head(2)"
   ]
  },
  {
   "cell_type": "code",
   "execution_count": 54,
   "metadata": {},
   "outputs": [
    {
     "name": "stdout",
     "output_type": "stream",
     "text": [
      "<class 'pandas.core.frame.DataFrame'>\n",
      "RangeIndex: 16539 entries, 0 to 16538\n",
      "Data columns (total 23 columns):\n",
      " #   Column              Non-Null Count  Dtype         \n",
      "---  ------              --------------  -----         \n",
      " 0   numberPosts         16539 non-null  int64         \n",
      " 1   username            16335 non-null  object        \n",
      " 2   numberFollowing     16539 non-null  int64         \n",
      " 3   descriptionProfile  16148 non-null  object        \n",
      " 4   alias               16539 non-null  object        \n",
      " 5   numberFollowers     16539 non-null  int64         \n",
      " 6   filename            16539 non-null  object        \n",
      " 7   Date                16539 non-null  datetime64[ns]\n",
      " 8   Time                16539 non-null  datetime64[ns]\n",
      " 9   mentions            16539 non-null  object        \n",
      " 10  multipleImage       16539 non-null  int64         \n",
      " 11  NoOfImages          16539 non-null  int64         \n",
      " 12  isVideo             16539 non-null  int64         \n",
      " 13  localization        6887 non-null   object        \n",
      " 14  tags                16539 non-null  object        \n",
      " 15  numberLikes         16539 non-null  int64         \n",
      " 16  high_influencer     16539 non-null  int64         \n",
      " 17  description         16319 non-null  object        \n",
      " 18  year                16539 non-null  int64         \n",
      " 19  month               16539 non-null  int64         \n",
      " 20  day                 16539 non-null  int64         \n",
      " 21  week                16539 non-null  int64         \n",
      " 22  dayofweek           16539 non-null  int64         \n",
      "dtypes: datetime64[ns](2), int64(13), object(8)\n",
      "memory usage: 2.9+ MB\n"
     ]
    }
   ],
   "source": [
    "train.info()"
   ]
  },
  {
   "cell_type": "code",
   "execution_count": 55,
   "metadata": {},
   "outputs": [
    {
     "data": {
      "text/plain": [
       "numberPosts             881\n",
       "username                957\n",
       "numberFollowing         631\n",
       "descriptionProfile      939\n",
       "alias                   973\n",
       "numberFollowers         973\n",
       "filename              16539\n",
       "Date                    337\n",
       "Time                      1\n",
       "mentions               9412\n",
       "multipleImage             2\n",
       "NoOfImages               10\n",
       "isVideo                   1\n",
       "localization           3332\n",
       "tags                   6469\n",
       "numberLikes           12233\n",
       "high_influencer           2\n",
       "description           15988\n",
       "year                      5\n",
       "month                    12\n",
       "day                      31\n",
       "week                     51\n",
       "dayofweek                 7\n",
       "dtype: int64"
      ]
     },
     "execution_count": 55,
     "metadata": {},
     "output_type": "execute_result"
    }
   ],
   "source": [
    "train.nunique()"
   ]
  },
  {
   "cell_type": "markdown",
   "metadata": {},
   "source": [
    "**Engagement Rate**"
   ]
  },
  {
   "cell_type": "code",
   "execution_count": 56,
   "metadata": {},
   "outputs": [],
   "source": [
    "train['engagement_rate']=100* (train.numberLikes/train.numberFollowers)"
   ]
  },
  {
   "cell_type": "markdown",
   "metadata": {},
   "source": [
    "# % NaN Values"
   ]
  },
  {
   "cell_type": "code",
   "execution_count": 57,
   "metadata": {},
   "outputs": [
    {
     "data": {
      "text/plain": [
       "localization          58.4\n",
       "descriptionProfile     2.4\n",
       "description            1.3\n",
       "username               1.2\n",
       "engagement_rate        0.0\n",
       "multipleImage          0.0\n",
       "numberFollowing        0.0\n",
       "alias                  0.0\n",
       "numberFollowers        0.0\n",
       "filename               0.0\n",
       "Date                   0.0\n",
       "Time                   0.0\n",
       "mentions               0.0\n",
       "NoOfImages             0.0\n",
       "dayofweek              0.0\n",
       "isVideo                0.0\n",
       "tags                   0.0\n",
       "numberLikes            0.0\n",
       "high_influencer        0.0\n",
       "year                   0.0\n",
       "month                  0.0\n",
       "day                    0.0\n",
       "week                   0.0\n",
       "numberPosts            0.0\n",
       "dtype: float64"
      ]
     },
     "execution_count": 57,
     "metadata": {},
     "output_type": "execute_result"
    }
   ],
   "source": [
    "null_values_per_variable = 100 * (train.isnull().sum()/train.shape[0]).round(3)#.reset_index()\n",
    "null_values_per_variable.sort_values(ascending=False)"
   ]
  },
  {
   "cell_type": "markdown",
   "metadata": {},
   "source": [
    "Dropping 'localization'"
   ]
  },
  {
   "cell_type": "code",
   "execution_count": 13,
   "metadata": {},
   "outputs": [],
   "source": [
    "train = train.drop(['localization'], axis=1)"
   ]
  },
  {
   "cell_type": "markdown",
   "metadata": {},
   "source": [
    "**Replacing null values of 'username', 'description' and 'descriptionProfile' with **0****"
   ]
  },
  {
   "cell_type": "code",
   "execution_count": 58,
   "metadata": {},
   "outputs": [],
   "source": [
    "train[['descriptionProfile','description','username']]=train[['username','descriptionProfile','description']].fillna('0')"
   ]
  },
  {
   "cell_type": "markdown",
   "metadata": {},
   "source": [
    "**Extracting Length features for Textual Variables**"
   ]
  },
  {
   "cell_type": "code",
   "execution_count": 59,
   "metadata": {},
   "outputs": [],
   "source": [
    "# Mentions\n",
    "train['mentions_len'] = train['mentions'].apply(lambda x: len(x))\n",
    "# Tags\n",
    "train['tags_len'] = train['tags'].apply(lambda x: len(x))\n",
    "# Description \n",
    "train['description_len'] = train['description'].apply(lambda x: len(x))\n",
    "# Description Profile\n",
    "train['description_profile_len'] = train['descriptionProfile'].apply(lambda x: len(x))"
   ]
  },
  {
   "cell_type": "code",
   "execution_count": 60,
   "metadata": {},
   "outputs": [
    {
     "data": {
      "image/png": "[encoded data removed]",
      "text/plain": [
       "<Figure size 1080x360 with 1 Axes>"
      ]
     },
     "metadata": {
      "needs_background": "light"
     },
     "output_type": "display_data"
    }
   ],
   "source": [
    "_ = sns.catplot(x=\"high_influencer\", y=\"mentions_len\", data=train, height=5, aspect=24/8)"
   ]
  },
  {
   "cell_type": "code",
   "execution_count": 61,
   "metadata": {},
   "outputs": [
    {
     "data": {
      "image/png": "[encoded data removed]",
      "text/plain": [
       "<Figure size 1080x360 with 1 Axes>"
      ]
     },
     "metadata": {
      "needs_background": "light"
     },
     "output_type": "display_data"
    }
   ],
   "source": [
    "_ = sns.catplot(x=\"high_influencer\", y=\"tags_len\", data=train, height=5, aspect=24/8)"
   ]
  },
  {
   "cell_type": "code",
   "execution_count": 62,
   "metadata": {},
   "outputs": [
    {
     "data": {
      "image/png": "[encoded data removed]",
      "text/plain": [
       "<Figure size 1080x360 with 1 Axes>"
      ]
     },
     "metadata": {
      "needs_background": "light"
     },
     "output_type": "display_data"
    }
   ],
   "source": [
    "_ = sns.catplot(x=\"high_influencer\", y=\"description_len\", data=train, height=5, aspect=24/8)"
   ]
  },
  {
   "cell_type": "code",
   "execution_count": 63,
   "metadata": {},
   "outputs": [
    {
     "data": {
      "image/png": "[encoded data removed]",
      "text/plain": [
       "<Figure size 1080x360 with 1 Axes>"
      ]
     },
     "metadata": {
      "needs_background": "light"
     },
     "output_type": "display_data"
    }
   ],
   "source": [
    "_ = sns.catplot(x=\"high_influencer\", y=\"description_profile_len\", data=train, height=5, aspect=24/8)"
   ]
  },
  {
   "cell_type": "code",
   "execution_count": null,
   "metadata": {},
   "outputs": [],
   "source": []
  },
  {
   "cell_type": "code",
   "execution_count": 64,
   "metadata": {},
   "outputs": [
    {
     "data": {
      "text/plain": [
       "(16539, 28)"
      ]
     },
     "execution_count": 64,
     "metadata": {},
     "output_type": "execute_result"
    }
   ],
   "source": [
    "train.shape"
   ]
  },
  {
   "cell_type": "code",
   "execution_count": 65,
   "metadata": {},
   "outputs": [
    {
     "data": {
      "text/html": [
       "<div>\n",
       "<style scoped>\n",
       "    .dataframe tbody tr th:only-of-type {\n",
       "        vertical-align: middle;\n",
       "    }\n",
       "\n",
       "    .dataframe tbody tr th {\n",
       "        vertical-align: top;\n",
       "    }\n",
       "\n",
       "    .dataframe thead th {\n",
       "        text-align: right;\n",
       "    }\n",
       "</style>\n",
       "<table border=\"1\" class=\"dataframe\">\n",
       "  <thead>\n",
       "    <tr style=\"text-align: right;\">\n",
       "      <th></th>\n",
       "      <th>index</th>\n",
       "      <th>numberPosts</th>\n",
       "      <th>username</th>\n",
       "      <th>numberFollowing</th>\n",
       "      <th>descriptionProfile</th>\n",
       "      <th>alias</th>\n",
       "      <th>numberFollowers</th>\n",
       "      <th>filename</th>\n",
       "      <th>Date</th>\n",
       "      <th>Time</th>\n",
       "      <th>...</th>\n",
       "      <th>year</th>\n",
       "      <th>month</th>\n",
       "      <th>day</th>\n",
       "      <th>week</th>\n",
       "      <th>dayofweek</th>\n",
       "      <th>engagement_rate</th>\n",
       "      <th>mentions_len</th>\n",
       "      <th>tags_len</th>\n",
       "      <th>description_len</th>\n",
       "      <th>description_profile_len</th>\n",
       "    </tr>\n",
       "  </thead>\n",
       "  <tbody>\n",
       "    <tr>\n",
       "      <th>0</th>\n",
       "      <td>0</td>\n",
       "      <td>988</td>\n",
       "      <td>With my lovely colleague @fraukeludowig_offici...</td>\n",
       "      <td>233</td>\n",
       "      <td>Sylvie Meis Official Account</td>\n",
       "      <td>1misssmeis</td>\n",
       "      <td>720979</td>\n",
       "      <td>18161288_472089323136061_5128727096486526976_n...</td>\n",
       "      <td>2017-04-29</td>\n",
       "      <td>2020-12-06</td>\n",
       "      <td>...</td>\n",
       "      <td>2017</td>\n",
       "      <td>4</td>\n",
       "      <td>29</td>\n",
       "      <td>17</td>\n",
       "      <td>5</td>\n",
       "      <td>1.393522</td>\n",
       "      <td>124</td>\n",
       "      <td>20</td>\n",
       "      <td>150</td>\n",
       "      <td>28</td>\n",
       "    </tr>\n",
       "    <tr>\n",
       "      <th>1</th>\n",
       "      <td>1</td>\n",
       "      <td>988</td>\n",
       "      <td>My look last night, hosting Let's Dance! Style...</td>\n",
       "      <td>233</td>\n",
       "      <td>Sylvie Meis Official Account</td>\n",
       "      <td>1misssmeis</td>\n",
       "      <td>720979</td>\n",
       "      <td>18161312_678529115665252_1780327406628765696_n...</td>\n",
       "      <td>2017-04-29</td>\n",
       "      <td>2020-12-06</td>\n",
       "      <td>...</td>\n",
       "      <td>2017</td>\n",
       "      <td>4</td>\n",
       "      <td>29</td>\n",
       "      <td>17</td>\n",
       "      <td>5</td>\n",
       "      <td>2.327530</td>\n",
       "      <td>105</td>\n",
       "      <td>31</td>\n",
       "      <td>150</td>\n",
       "      <td>28</td>\n",
       "    </tr>\n",
       "    <tr>\n",
       "      <th>2</th>\n",
       "      <td>2</td>\n",
       "      <td>988</td>\n",
       "      <td>Calm before the 'glam' storm! ððð",
       "ð»...</td>\n",
       "      <td>233</td>\n",
       "      <td>Sylvie Meis Official Account</td>\n",
       "      <td>1misssmeis</td>\n",
       "      <td>720979</td>\n",
       "      <td>18096206_126240614590026_6106733145975947264_n...</td>\n",
       "      <td>2017-04-27</td>\n",
       "      <td>2020-12-06</td>\n",
       "      <td>...</td>\n",
       "      <td>2017</td>\n",
       "      <td>4</td>\n",
       "      <td>27</td>\n",
       "      <td>17</td>\n",
       "      <td>3</td>\n",
       "      <td>1.557188</td>\n",
       "      <td>48</td>\n",
       "      <td>37</td>\n",
       "      <td>150</td>\n",
       "      <td>28</td>\n",
       "    </tr>\n",
       "    <tr>\n",
       "      <th>3</th>\n",
       "      <td>3</td>\n",
       "      <td>988</td>\n",
       "      <td>ð¼Today's look for QVC.. styled by @bydanien...</td>\n",
       "      <td>233</td>\n",
       "      <td>Sylvie Meis Official Account</td>\n",
       "      <td>1misssmeis</td>\n",
       "      <td>720979</td>\n",
       "      <td>18094963_1399253156802062_6673302163394920448_...</td>\n",
       "      <td>2017-04-24</td>\n",
       "      <td>2020-12-06</td>\n",
       "      <td>...</td>\n",
       "      <td>2017</td>\n",
       "      <td>4</td>\n",
       "      <td>24</td>\n",
       "      <td>17</td>\n",
       "      <td>0</td>\n",
       "      <td>2.987466</td>\n",
       "      <td>228</td>\n",
       "      <td>29</td>\n",
       "      <td>150</td>\n",
       "      <td>28</td>\n",
       "    </tr>\n",
       "    <tr>\n",
       "      <th>4</th>\n",
       "      <td>4</td>\n",
       "      <td>988</td>\n",
       "      <td>ðHappy Weekend Lovelies â¤ #weekend #yay #...</td>\n",
       "      <td>233</td>\n",
       "      <td>Sylvie Meis Official Account</td>\n",
       "      <td>1misssmeis</td>\n",
       "      <td>720979</td>\n",
       "      <td>18011499_901505923322739_4323762320120479744_n...</td>\n",
       "      <td>2017-04-22</td>\n",
       "      <td>2020-12-06</td>\n",
       "      <td>...</td>\n",
       "      <td>2017</td>\n",
       "      <td>4</td>\n",
       "      <td>22</td>\n",
       "      <td>16</td>\n",
       "      <td>5</td>\n",
       "      <td>2.920196</td>\n",
       "      <td>43</td>\n",
       "      <td>46</td>\n",
       "      <td>150</td>\n",
       "      <td>28</td>\n",
       "    </tr>\n",
       "  </tbody>\n",
       "</table>\n",
       "<p>5 rows × 29 columns</p>\n",
       "</div>"
      ],
      "text/plain": [
       "   index  numberPosts                                           username  \\\n",
       "0      0          988  With my lovely colleague @fraukeludowig_offici...   \n",
       "1      1          988  My look last night, hosting Let's Dance! Style...   \n",
       "2      2          988  Calm before the 'glam' storm! ððð\n",
       "ð»...   \n",
       "3      3          988  ð¼Today's look for QVC.. styled by @bydanien...   \n",
       "4      4          988  ðHappy Weekend Lovelies â¤ #weekend #yay #...   \n",
       "\n",
       "   numberFollowing            descriptionProfile       alias  numberFollowers  \\\n",
       "0              233  Sylvie Meis Official Account  1misssmeis           720979   \n",
       "1              233  Sylvie Meis Official Account  1misssmeis           720979   \n",
       "2              233  Sylvie Meis Official Account  1misssmeis           720979   \n",
       "3              233  Sylvie Meis Official Account  1misssmeis           720979   \n",
       "4              233  Sylvie Meis Official Account  1misssmeis           720979   \n",
       "\n",
       "                                            filename       Date       Time  \\\n",
       "0  18161288_472089323136061_5128727096486526976_n... 2017-04-29 2020-12-06   \n",
       "1  18161312_678529115665252_1780327406628765696_n... 2017-04-29 2020-12-06   \n",
       "2  18096206_126240614590026_6106733145975947264_n... 2017-04-27 2020-12-06   \n",
       "3  18094963_1399253156802062_6673302163394920448_... 2017-04-24 2020-12-06   \n",
       "4  18011499_901505923322739_4323762320120479744_n... 2017-04-22 2020-12-06   \n",
       "\n",
       "   ...  year  month  day  week dayofweek engagement_rate  mentions_len  \\\n",
       "0  ...  2017      4   29    17         5        1.393522           124   \n",
       "1  ...  2017      4   29    17         5        2.327530           105   \n",
       "2  ...  2017      4   27    17         3        1.557188            48   \n",
       "3  ...  2017      4   24    17         0        2.987466           228   \n",
       "4  ...  2017      4   22    16         5        2.920196            43   \n",
       "\n",
       "   tags_len description_len  description_profile_len  \n",
       "0        20             150                       28  \n",
       "1        31             150                       28  \n",
       "2        37             150                       28  \n",
       "3        29             150                       28  \n",
       "4        46             150                       28  \n",
       "\n",
       "[5 rows x 29 columns]"
      ]
     },
     "execution_count": 65,
     "metadata": {},
     "output_type": "execute_result"
    }
   ],
   "source": [
    "train.reset_index(level=0, inplace=True)\n",
    "train.head()"
   ]
  },
  {
   "cell_type": "code",
   "execution_count": 66,
   "metadata": {},
   "outputs": [
    {
     "data": {
      "text/plain": [
       "<matplotlib.axes._subplots.AxesSubplot at 0x1d342fbf820>"
      ]
     },
     "execution_count": 66,
     "metadata": {},
     "output_type": "execute_result"
    },
    {
     "data": {
      "image/png": "[encoded data removed]",
      "text/plain": [
       "<Figure size 864x576 with 1 Axes>"
      ]
     },
     "metadata": {
      "needs_background": "light"
     },
     "output_type": "display_data"
    }
   ],
   "source": [
    "train.drop('numberLikes', axis=1).corrwith(train.numberLikes).plot(kind='bar', grid=True, figsize=(12, 8), \n",
    "                                                   title=\"Correlation with Price\")"
   ]
  },
  {
   "cell_type": "markdown",
   "metadata": {},
   "source": [
    "# FEATURES"
   ]
  },
  {
   "cell_type": "code",
   "execution_count": 67,
   "metadata": {},
   "outputs": [],
   "source": [
    "ID_COL, TARGET_COL = 'index', 'numberLikes'\n",
    "\n",
    "num_cols = ['numberPosts', 'numberFollowing', 'numberFollowers',\n",
    "            'mentions_len','tags_len','description_len','description_profile_len',\n",
    "           'year','month','day','week','dayofweek','engagement_rate']\n",
    "cat_cols = ['isVideo', 'multipleImage','high_influencer']\n",
    "text_cols = ['username', 'descriptionProfile', 'alias', 'filename','mentions','localization','tags','description']\n",
    "date_cols = ['Date','Time']"
   ]
  },
  {
   "cell_type": "markdown",
   "metadata": {},
   "source": [
    "**Log transformed data**"
   ]
  },
  {
   "cell_type": "code",
   "execution_count": 68,
   "metadata": {},
   "outputs": [
    {
     "data": {
      "text/html": [
       "<div>\n",
       "<style scoped>\n",
       "    .dataframe tbody tr th:only-of-type {\n",
       "        vertical-align: middle;\n",
       "    }\n",
       "\n",
       "    .dataframe tbody tr th {\n",
       "        vertical-align: top;\n",
       "    }\n",
       "\n",
       "    .dataframe thead th {\n",
       "        text-align: right;\n",
       "    }\n",
       "</style>\n",
       "<table border=\"1\" class=\"dataframe\">\n",
       "  <thead>\n",
       "    <tr style=\"text-align: right;\">\n",
       "      <th></th>\n",
       "      <th>numberPosts</th>\n",
       "      <th>numberFollowing</th>\n",
       "      <th>numberFollowers</th>\n",
       "      <th>mentions_len</th>\n",
       "      <th>tags_len</th>\n",
       "      <th>description_len</th>\n",
       "      <th>description_profile_len</th>\n",
       "      <th>year</th>\n",
       "      <th>month</th>\n",
       "      <th>day</th>\n",
       "      <th>week</th>\n",
       "      <th>dayofweek</th>\n",
       "      <th>engagement_rate</th>\n",
       "    </tr>\n",
       "  </thead>\n",
       "  <tbody>\n",
       "    <tr>\n",
       "      <th>0</th>\n",
       "      <td>6.896694</td>\n",
       "      <td>5.455321</td>\n",
       "      <td>13.488367</td>\n",
       "      <td>4.828314</td>\n",
       "      <td>3.044522</td>\n",
       "      <td>5.01728</td>\n",
       "      <td>3.367296</td>\n",
       "      <td>7.609862</td>\n",
       "      <td>1.609438</td>\n",
       "      <td>3.401197</td>\n",
       "      <td>2.890372</td>\n",
       "      <td>1.791759</td>\n",
       "      <td>0.872766</td>\n",
       "    </tr>\n",
       "    <tr>\n",
       "      <th>1</th>\n",
       "      <td>6.896694</td>\n",
       "      <td>5.455321</td>\n",
       "      <td>13.488367</td>\n",
       "      <td>4.663439</td>\n",
       "      <td>3.465736</td>\n",
       "      <td>5.01728</td>\n",
       "      <td>3.367296</td>\n",
       "      <td>7.609862</td>\n",
       "      <td>1.609438</td>\n",
       "      <td>3.401197</td>\n",
       "      <td>2.890372</td>\n",
       "      <td>1.791759</td>\n",
       "      <td>1.202230</td>\n",
       "    </tr>\n",
       "    <tr>\n",
       "      <th>2</th>\n",
       "      <td>6.896694</td>\n",
       "      <td>5.455321</td>\n",
       "      <td>13.488367</td>\n",
       "      <td>3.891820</td>\n",
       "      <td>3.637586</td>\n",
       "      <td>5.01728</td>\n",
       "      <td>3.367296</td>\n",
       "      <td>7.609862</td>\n",
       "      <td>1.609438</td>\n",
       "      <td>3.332205</td>\n",
       "      <td>2.890372</td>\n",
       "      <td>1.386294</td>\n",
       "      <td>0.938908</td>\n",
       "    </tr>\n",
       "    <tr>\n",
       "      <th>3</th>\n",
       "      <td>6.896694</td>\n",
       "      <td>5.455321</td>\n",
       "      <td>13.488367</td>\n",
       "      <td>5.433722</td>\n",
       "      <td>3.401197</td>\n",
       "      <td>5.01728</td>\n",
       "      <td>3.367296</td>\n",
       "      <td>7.609862</td>\n",
       "      <td>1.609438</td>\n",
       "      <td>3.218876</td>\n",
       "      <td>2.890372</td>\n",
       "      <td>0.000000</td>\n",
       "      <td>1.383156</td>\n",
       "    </tr>\n",
       "    <tr>\n",
       "      <th>4</th>\n",
       "      <td>6.896694</td>\n",
       "      <td>5.455321</td>\n",
       "      <td>13.488367</td>\n",
       "      <td>3.784190</td>\n",
       "      <td>3.850148</td>\n",
       "      <td>5.01728</td>\n",
       "      <td>3.367296</td>\n",
       "      <td>7.609862</td>\n",
       "      <td>1.609438</td>\n",
       "      <td>3.135494</td>\n",
       "      <td>2.833213</td>\n",
       "      <td>1.791759</td>\n",
       "      <td>1.366142</td>\n",
       "    </tr>\n",
       "  </tbody>\n",
       "</table>\n",
       "</div>"
      ],
      "text/plain": [
       "   numberPosts  numberFollowing  numberFollowers  mentions_len  tags_len  \\\n",
       "0     6.896694         5.455321        13.488367      4.828314  3.044522   \n",
       "1     6.896694         5.455321        13.488367      4.663439  3.465736   \n",
       "2     6.896694         5.455321        13.488367      3.891820  3.637586   \n",
       "3     6.896694         5.455321        13.488367      5.433722  3.401197   \n",
       "4     6.896694         5.455321        13.488367      3.784190  3.850148   \n",
       "\n",
       "   description_len  description_profile_len      year     month       day  \\\n",
       "0          5.01728                 3.367296  7.609862  1.609438  3.401197   \n",
       "1          5.01728                 3.367296  7.609862  1.609438  3.401197   \n",
       "2          5.01728                 3.367296  7.609862  1.609438  3.332205   \n",
       "3          5.01728                 3.367296  7.609862  1.609438  3.218876   \n",
       "4          5.01728                 3.367296  7.609862  1.609438  3.135494   \n",
       "\n",
       "       week  dayofweek  engagement_rate  \n",
       "0  2.890372   1.791759         0.872766  \n",
       "1  2.890372   1.791759         1.202230  \n",
       "2  2.890372   1.386294         0.938908  \n",
       "3  2.890372   0.000000         1.383156  \n",
       "4  2.833213   1.791759         1.366142  "
      ]
     },
     "execution_count": 68,
     "metadata": {},
     "output_type": "execute_result"
    }
   ],
   "source": [
    "train[num_cols + ['numberLikes']] = train[num_cols + ['numberLikes']].apply(lambda x: np.log1p(x))\n",
    "#test[num_cols] = test[num_cols].apply(lambda x: np.log1p(x))\n",
    "\n",
    "train[num_cols].head()"
   ]
  },
  {
   "cell_type": "markdown",
   "metadata": {},
   "source": [
    "### Helper functions for metrics"
   ]
  },
  {
   "cell_type": "code",
   "execution_count": 69,
   "metadata": {},
   "outputs": [],
   "source": [
    "from sklearn.metrics import mean_squared_error, mean_squared_log_error\n",
    "\n",
    "def rmse(y_true,y_pred):                                             #returns RMSE\n",
    "    return np.sqrt(mean_squared_log_error(y_true,y_pred))\n",
    "\n",
    "def metric(y_true,y_pred):                                           #returns error asked by competition \n",
    "    return 1000 * np.sqrt(mean_squared_error(y_true,y_pred))\n",
    "    \n",
    "target=train[TARGET_COL]"
   ]
  },
  {
   "cell_type": "markdown",
   "metadata": {},
   "source": [
    "# # Baseline Model:  Predicting INstagram Likes as mean values"
   ]
  },
  {
   "cell_type": "code",
   "execution_count": 70,
   "metadata": {},
   "outputs": [
    {
     "name": "stdout",
     "output_type": "stream",
     "text": [
      "9.00161963095354\n"
     ]
    }
   ],
   "source": [
    "print(target.mean())"
   ]
  },
  {
   "cell_type": "code",
   "execution_count": 71,
   "metadata": {},
   "outputs": [],
   "source": [
    "preds_target= pd.Series([target.mean()] * len(train))"
   ]
  },
  {
   "cell_type": "code",
   "execution_count": 72,
   "metadata": {
    "scrolled": true
   },
   "outputs": [
    {
     "data": {
      "text/plain": [
       "0    9.00162\n",
       "1    9.00162\n",
       "2    9.00162\n",
       "dtype: float64"
      ]
     },
     "execution_count": 72,
     "metadata": {},
     "output_type": "execute_result"
    }
   ],
   "source": [
    "#Predicted\n",
    "preds_target.head(3)"
   ]
  },
  {
   "cell_type": "code",
   "execution_count": 73,
   "metadata": {},
   "outputs": [
    {
     "data": {
      "text/plain": [
       "0    9.215129\n",
       "1    9.728062\n",
       "2    9.326166\n",
       "Name: numberLikes, dtype: float64"
      ]
     },
     "execution_count": 73,
     "metadata": {},
     "output_type": "execute_result"
    }
   ],
   "source": [
    "#Actual\n",
    "target.head(3)"
   ]
  },
  {
   "cell_type": "markdown",
   "metadata": {},
   "source": [
    "**Metrics**"
   ]
  },
  {
   "cell_type": "code",
   "execution_count": 74,
   "metadata": {},
   "outputs": [
    {
     "data": {
      "text/plain": [
       "(1387.6093374115615, 0.14379925353936085)"
      ]
     },
     "execution_count": 74,
     "metadata": {},
     "output_type": "execute_result"
    }
   ],
   "source": [
    "error         = rmse(target,preds_target)\n",
    "score_metric  = metric(target,preds_target)\n",
    "\n",
    "score_metric, error"
   ]
  },
  {
   "cell_type": "markdown",
   "metadata": {},
   "source": [
    "# Baseline Model2: Predicting using number of posts"
   ]
  },
  {
   "cell_type": "markdown",
   "metadata": {},
   "source": [
    "Mean Likes per post"
   ]
  },
  {
   "cell_type": "code",
   "execution_count": 75,
   "metadata": {},
   "outputs": [
    {
     "data": {
      "text/plain": [
       "1.2274703200286619"
      ]
     },
     "execution_count": 75,
     "metadata": {},
     "output_type": "execute_result"
    }
   ],
   "source": [
    "((train['numberLikes'] + 1)/(train['numberPosts'] + 1)).mean() "
   ]
  },
  {
   "cell_type": "markdown",
   "metadata": {},
   "source": [
    "**Metrics**"
   ]
  },
  {
   "cell_type": "code",
   "execution_count": 76,
   "metadata": {},
   "outputs": [
    {
     "data": {
      "text/plain": [
       "(1850.0924018788558, 0.19205714726364576)"
      ]
     },
     "execution_count": 76,
     "metadata": {},
     "output_type": "execute_result"
    }
   ],
   "source": [
    "preds_target=train['numberPosts'] * 1.227\n",
    "metric_score=metric(target,preds_target)\n",
    "error         = rmse(target,preds_target)\n",
    "metric_score,error"
   ]
  },
  {
   "cell_type": "markdown",
   "metadata": {},
   "source": [
    "# **ML Models** - **IMPORT DATA AGAIN / MANIPULATE **"
   ]
  },
  {
   "cell_type": "markdown",
   "metadata": {},
   "source": [
    "**Log transformed data**"
   ]
  },
  {
   "cell_type": "code",
   "execution_count": 77,
   "metadata": {},
   "outputs": [],
   "source": [
    "train[num_cols + ['numberLikes']] = train[num_cols + ['numberLikes']].apply(lambda x: np.log1p(x))"
   ]
  },
  {
   "cell_type": "code",
   "execution_count": 78,
   "metadata": {},
   "outputs": [
    {
     "data": {
      "text/plain": [
       "(27, 17)"
      ]
     },
     "execution_count": 78,
     "metadata": {},
     "output_type": "execute_result"
    }
   ],
   "source": [
    "features = [c for c in train.columns if c not in [ID_COL, TARGET_COL]]\n",
    "cat_num_cols = [c for c in features if c not in text_cols + date_cols]\n",
    "\n",
    "len(features), len(cat_num_cols)"
   ]
  },
  {
   "cell_type": "markdown",
   "metadata": {},
   "source": [
    "**Split the data set into train (80 %) and validation sets (20%)** "
   ]
  },
  {
   "cell_type": "code",
   "execution_count": 79,
   "metadata": {},
   "outputs": [],
   "source": [
    "trn, val = train_test_split(train, test_size=0.2, random_state = 1)\n",
    "\n",
    "###### Input to our model will be the features\n",
    "X_trn, X_val = trn[features], val[features]\n",
    "\n",
    "###### Output of our model will be the TARGET_COL\n",
    "y_trn, y_val = trn[TARGET_COL], val[TARGET_COL]\n",
    "\n",
    "##### Features for the test data that we will be predicting\n",
    "#X_test = test_proc[features]"
   ]
  },
  {
   "cell_type": "markdown",
   "metadata": {},
   "source": [
    "**Fit a regression Model on train, check its results on validation set.**"
   ]
  },
  {
   "cell_type": "code",
   "execution_count": 80,
   "metadata": {},
   "outputs": [],
   "source": [
    "from sklearn.metrics import mean_squared_error, mean_squared_log_error"
   ]
  },
  {
   "cell_type": "code",
   "execution_count": 81,
   "metadata": {},
   "outputs": [],
   "source": [
    "def metric(y_true,y_pred):\n",
    "    return 1000*np.sqrt(mean_squared_error(y_true,y_pred))"
   ]
  },
  {
   "cell_type": "markdown",
   "metadata": {},
   "source": [
    "**Linear Regression** - Only NUMERICAL Features"
   ]
  },
  {
   "cell_type": "code",
   "execution_count": 82,
   "metadata": {},
   "outputs": [],
   "source": [
    "clf = LinearRegression()\n",
    "_=clf.fit(X_trn[num_cols],y_trn)"
   ]
  },
  {
   "cell_type": "code",
   "execution_count": 83,
   "metadata": {},
   "outputs": [],
   "source": [
    "preds_val=clf.predict(X_val[num_cols])"
   ]
  },
  {
   "cell_type": "code",
   "execution_count": 85,
   "metadata": {},
   "outputs": [
    {
     "data": {
      "text/plain": [
       "57.211164633294096"
      ]
     },
     "execution_count": 85,
     "metadata": {},
     "output_type": "execute_result"
    }
   ],
   "source": [
    "#RESULT\n",
    "metric(y_val,preds_val)"
   ]
  },
  {
   "cell_type": "markdown",
   "metadata": {},
   "source": [
    "**57**"
   ]
  },
  {
   "cell_type": "markdown",
   "metadata": {},
   "source": [
    "**Linear Regression** - Categorical + Numerical Features"
   ]
  },
  {
   "cell_type": "code",
   "execution_count": 86,
   "metadata": {},
   "outputs": [],
   "source": [
    "clf=LinearRegression()\n",
    "_ = clf.fit(X_trn[cat_num_cols],y_trn)"
   ]
  },
  {
   "cell_type": "code",
   "execution_count": 87,
   "metadata": {},
   "outputs": [],
   "source": [
    "preds_val=clf.predict(X_val[cat_num_cols])"
   ]
  },
  {
   "cell_type": "code",
   "execution_count": 88,
   "metadata": {},
   "outputs": [
    {
     "data": {
      "text/plain": [
       "57.2086719363556"
      ]
     },
     "execution_count": 88,
     "metadata": {},
     "output_type": "execute_result"
    }
   ],
   "source": [
    "#Result\n",
    "metric(y_val,preds_val)"
   ]
  },
  {
   "cell_type": "markdown",
   "metadata": {},
   "source": [
    "**57**"
   ]
  },
  {
   "cell_type": "markdown",
   "metadata": {},
   "source": [
    "#  Decision Tree Regressor - Hyper Parameter Tuning"
   ]
  },
  {
   "cell_type": "code",
   "execution_count": 89,
   "metadata": {},
   "outputs": [],
   "source": [
    "from sklearn.model_selection import RandomizedSearchCV"
   ]
  },
  {
   "cell_type": "code",
   "execution_count": 90,
   "metadata": {},
   "outputs": [],
   "source": [
    "params = {\n",
    "    'max_depth': [4, 6, 8, 10, 12],\n",
    "    'min_samples_split': [2, 10, 20, 30, 40],\n",
    "    'max_features': [0.2, 0.4, 0.6, 0.8, 1],\n",
    "    'max_leaf_nodes': [8, 16, 32, 64, 128],\n",
    "}\n"
   ]
  },
  {
   "cell_type": "code",
   "execution_count": 97,
   "metadata": {},
   "outputs": [],
   "source": [
    "clf = RandomizedSearchCV(DecisionTreeRegressor(),\n",
    "                         params,\n",
    "                         scoring='neg_root_mean_squared_error',\n",
    "                         random_state=1,\n",
    "                         n_iter=20)"
   ]
  },
  {
   "cell_type": "code",
   "execution_count": 98,
   "metadata": {},
   "outputs": [
    {
     "data": {
      "text/plain": [
       "{'min_samples_split': 30,\n",
       " 'max_leaf_nodes': 128,\n",
       " 'max_features': 0.8,\n",
       " 'max_depth': 12}"
      ]
     },
     "execution_count": 98,
     "metadata": {},
     "output_type": "execute_result"
    }
   ],
   "source": [
    "search = clf.fit(train[cat_num_cols], train[TARGET_COL])\n",
    "search.best_params_"
   ]
  },
  {
   "cell_type": "code",
   "execution_count": 104,
   "metadata": {},
   "outputs": [
    {
     "data": {
      "text/plain": [
       "18.560094735770825"
      ]
     },
     "execution_count": 104,
     "metadata": {},
     "output_type": "execute_result"
    }
   ],
   "source": [
    "best_params = {'min_samples_split': 30,\n",
    " 'max_leaf_nodes': 128,\n",
    " 'max_features': 0.8,\n",
    " 'max_depth': 12}\n",
    "\n",
    "clf = DecisionTreeRegressor(**best_params)\n",
    "\n",
    "_ = clf.fit(X_trn[cat_num_cols], y_trn)\n",
    "\n",
    "preds_val = clf.predict(X_val[cat_num_cols])\n",
    "\n",
    "#RESULT\n",
    "metric(y_val, preds_val)"
   ]
  },
  {
   "cell_type": "markdown",
   "metadata": {},
   "source": [
    "**19**"
   ]
  },
  {
   "cell_type": "markdown",
   "metadata": {},
   "source": [
    "# Validation Strategy"
   ]
  },
  {
   "cell_type": "code",
   "execution_count": 105,
   "metadata": {},
   "outputs": [],
   "source": [
    "from sklearn.model_selection import StratifiedKFold\n",
    "from sklearn.preprocessing import StandardScaler"
   ]
  },
  {
   "cell_type": "code",
   "execution_count": 106,
   "metadata": {},
   "outputs": [],
   "source": [
    "def run_clf_kfold(clf, train, test, features):\n",
    "\n",
    "  N_SPLITS = 5         #Divide in 5 split (K)\n",
    "\n",
    "  oofs = np.zeros(len(train))             #train prediction\n",
    "  preds = np.zeros((len(test)))           #test prediction\n",
    "\n",
    "  target = train[TARGET_COL]\n",
    "\n",
    "  folds = StratifiedKFold(n_splits = N_SPLITS)\n",
    "  stratified_target = pd.qcut(train[TARGET_COL], 10, labels = False, duplicates='drop') #splitting target in 10 parts \n",
    "\n",
    "  for fold_, (trn_idx, val_idx) in enumerate(folds.split(train, stratified_target)):\n",
    "    print(f'\\n------------- Fold {fold_ + 1} -------------')\n",
    "\n",
    "    ############# Get train, validation and test sets along with targets ################\n",
    "  \n",
    "    ### Training Set\n",
    "    X_trn, y_trn = train[features].iloc[trn_idx], target.iloc[trn_idx]\n",
    "\n",
    "    ### Validation Set\n",
    "    X_val, y_val = train[features].iloc[val_idx], target.iloc[val_idx]\n",
    "\n",
    "    ### Test Set\n",
    "    X_test = test[features]\n",
    "\n",
    "\n",
    "\n",
    "    ############# Fitting and Predicting ################\n",
    "\n",
    "    _ = clf.fit(X_trn, y_trn)\n",
    "\n",
    "    ### Instead of directly predicting the classes we will obtain the probability of positive class.\n",
    "    preds_val = clf.predict(X_val)\n",
    "    preds_test = clf.predict(X_test)\n",
    "\n",
    "    fold_score = metric(y_val, preds_val)\n",
    "    print(f'\\nAV metric score for validation set is {fold_score}')\n",
    "\n",
    "    oofs[val_idx] = preds_val\n",
    "    preds += preds_test / N_SPLITS\n",
    "\n",
    "\n",
    "  oofs_score = metric(target, oofs)\n",
    "  print(f'\\n\\nAV metric for oofs is {oofs_score}')\n",
    "\n",
    "  return oofs, preds"
   ]
  },
  {
   "cell_type": "markdown",
   "metadata": {},
   "source": [
    "**KFold on Decision Tree**"
   ]
  },
  {
   "cell_type": "code",
   "execution_count": 107,
   "metadata": {},
   "outputs": [],
   "source": [
    "dt_params = {'min_samples_split': 30,\n",
    " 'max_leaf_nodes': 32,\n",
    " 'max_features': 0.8,\n",
    " 'max_depth': 4}\n",
    "clf = DecisionTreeRegressor(**dt_params)\n"
   ]
  },
  {
   "cell_type": "code",
   "execution_count": 108,
   "metadata": {
    "scrolled": true
   },
   "outputs": [
    {
     "name": "stdout",
     "output_type": "stream",
     "text": [
      "\n",
      "------------- Fold 1 -------------\n",
      "\n",
      "AV metric score for validation set is 77.06791678404718\n",
      "\n",
      "------------- Fold 2 -------------\n",
      "\n",
      "AV metric score for validation set is 57.87401521656451\n",
      "\n",
      "------------- Fold 3 -------------\n",
      "\n",
      "AV metric score for validation set is 73.19670437455429\n",
      "\n",
      "------------- Fold 4 -------------\n",
      "\n",
      "AV metric score for validation set is 58.67676541130402\n",
      "\n",
      "------------- Fold 5 -------------\n",
      "\n",
      "AV metric score for validation set is 65.37399295284932\n",
      "\n",
      "\n",
      "AV metric for oofs is 66.87884422160535\n"
     ]
    }
   ],
   "source": [
    "dt_oofs, dt_preds = run_clf_kfold(clf, trn, val, cat_num_cols)"
   ]
  },
  {
   "cell_type": "markdown",
   "metadata": {},
   "source": [
    "**66**"
   ]
  },
  {
   "cell_type": "markdown",
   "metadata": {},
   "source": [
    "# **Gradient Boosting**"
   ]
  },
  {
   "cell_type": "markdown",
   "metadata": {},
   "source": [
    "## **LightGBM**"
   ]
  },
  {
   "cell_type": "code",
   "execution_count": 109,
   "metadata": {},
   "outputs": [],
   "source": [
    "from lightgbm import LGBMRegressor"
   ]
  },
  {
   "cell_type": "code",
   "execution_count": 110,
   "metadata": {},
   "outputs": [
    {
     "name": "stdout",
     "output_type": "stream",
     "text": [
      "\n",
      "------------- Fold 1 -------------\n",
      "\n",
      "AV metric score for validation set is 54.89155451058448\n",
      "\n",
      "------------- Fold 2 -------------\n",
      "\n",
      "AV metric score for validation set is 12.362951568879323\n",
      "\n",
      "------------- Fold 3 -------------\n",
      "\n",
      "AV metric score for validation set is 10.117573357134999\n",
      "\n",
      "------------- Fold 4 -------------\n",
      "\n",
      "AV metric score for validation set is 11.523772659097297\n",
      "\n",
      "------------- Fold 5 -------------\n",
      "\n",
      "AV metric score for validation set is 9.612069390659629\n",
      "\n",
      "\n",
      "AV metric for oofs is 26.436166290328035\n"
     ]
    }
   ],
   "source": [
    "clf = LGBMRegressor()\n",
    "lgb_oofs, lgb_preds = run_clf_kfold(clf, trn, val, cat_num_cols)"
   ]
  },
  {
   "cell_type": "markdown",
   "metadata": {},
   "source": [
    "**26**"
   ]
  },
  {
   "cell_type": "markdown",
   "metadata": {},
   "source": [
    "### **Tuning LightGBM**\n",
    "\n",
    "* Early Stopping: Stopping the model training, when the model starts to overfit\n",
    "  * How do we know if model is overfitting ?\n",
    "* HyperParameter Optimization.\n",
    "  * Is random search the best way to go ?"
   ]
  },
  {
   "cell_type": "markdown",
   "metadata": {},
   "source": [
    "**Simple Function to Run Gradient Boosting**"
   ]
  },
  {
   "cell_type": "code",
   "execution_count": 111,
   "metadata": {},
   "outputs": [],
   "source": [
    "def run_gradient_boosting(clf, fit_params, train, test, features):\n",
    "  N_SPLITS = 5\n",
    "  oofs = np.zeros(len(train))\n",
    "  preds = np.zeros((len(test)))\n",
    "\n",
    "  target = train[TARGET_COL]\n",
    "\n",
    "  folds = StratifiedKFold(n_splits = N_SPLITS)\n",
    "  stratified_target = pd.qcut(train[TARGET_COL], 10, labels = False, duplicates='drop')\n",
    "\n",
    "  feature_importances = pd.DataFrame()\n",
    "\n",
    "  for fold_, (trn_idx, val_idx) in enumerate(folds.split(train, stratified_target)):\n",
    "    print(f'\\n------------- Fold {fold_ + 1} -------------')\n",
    "\n",
    "    ### Training Set\n",
    "    X_trn, y_trn = train[features].iloc[trn_idx], target.iloc[trn_idx]\n",
    "\n",
    "    ### Validation Set\n",
    "    X_val, y_val = train[features].iloc[val_idx], target.iloc[val_idx]\n",
    "\n",
    "    ### Test Set\n",
    "    X_test = test[features]\n",
    " \n",
    "    _ = clf.fit(X_trn, y_trn, eval_set = [(X_val, y_val)], **fit_params)\n",
    "\n",
    "    fold_importance = pd.DataFrame({'fold': fold_ + 1, 'feature': features, 'importance': clf.feature_importances_})\n",
    "    feature_importances = pd.concat([feature_importances, fold_importance], axis=0)\n",
    "\n",
    "    ### Instead of directly predicting the classes we will obtain the probability of positive class.\n",
    "    preds_val = clf.predict(X_val)\n",
    "    preds_test = clf.predict(X_test)\n",
    "\n",
    "    fold_score = metric(y_val, preds_val)\n",
    "    print(f'\\nAV metric score for validation set is {fold_score}')\n",
    "\n",
    "    oofs[val_idx] = preds_val\n",
    "    preds += preds_test / N_SPLITS\n",
    "\n",
    "\n",
    "  oofs_score = metric(target, oofs)\n",
    "  print(f'\\n\\nAV metric for oofs is {oofs_score}')\n",
    "\n",
    "  feature_importances = feature_importances.reset_index(drop = True)\n",
    "  fi = feature_importances.groupby('feature')['importance'].mean().sort_values(ascending = False)[:20][::-1]\n",
    "  fi.plot(kind = 'barh', figsize=(12, 6))\n",
    "\n",
    "  return oofs, preds, fi"
   ]
  },
  {
   "cell_type": "markdown",
   "metadata": {},
   "source": [
    "**Manual Tuning. Choosing Hyperparameters to Tune**"
   ]
  },
  {
   "cell_type": "code",
   "execution_count": 112,
   "metadata": {},
   "outputs": [
    {
     "name": "stdout",
     "output_type": "stream",
     "text": [
      "\n",
      "------------- Fold 1 -------------\n",
      "Training until validation scores don't improve for 100 rounds\n",
      "[100]\tvalid_0's rmse: 0.0563302\n",
      "[200]\tvalid_0's rmse: 0.0557733\n",
      "[300]\tvalid_0's rmse: 0.0557778\n",
      "Early stopping, best iteration is:\n",
      "[206]\tvalid_0's rmse: 0.0557624\n",
      "\n",
      "AV metric score for validation set is 55.7623559489272\n",
      "\n",
      "------------- Fold 2 -------------\n",
      "Training until validation scores don't improve for 100 rounds\n",
      "[100]\tvalid_0's rmse: 0.0106613\n",
      "[200]\tvalid_0's rmse: 0.0103814\n",
      "[300]\tvalid_0's rmse: 0.0101939\n",
      "[400]\tvalid_0's rmse: 0.010036\n",
      "[500]\tvalid_0's rmse: 0.0097566\n",
      "[600]\tvalid_0's rmse: 0.00958976\n",
      "[700]\tvalid_0's rmse: 0.00948078\n",
      "[800]\tvalid_0's rmse: 0.0095207\n",
      "[900]\tvalid_0's rmse: 0.00942835\n",
      "Early stopping, best iteration is:\n",
      "[848]\tvalid_0's rmse: 0.00938403\n",
      "\n",
      "AV metric score for validation set is 9.384026882717686\n",
      "\n",
      "------------- Fold 3 -------------\n",
      "Training until validation scores don't improve for 100 rounds\n",
      "[100]\tvalid_0's rmse: 0.00999917\n",
      "[200]\tvalid_0's rmse: 0.0102714\n",
      "Early stopping, best iteration is:\n",
      "[135]\tvalid_0's rmse: 0.00946915\n",
      "\n",
      "AV metric score for validation set is 9.469145215699555\n",
      "\n",
      "------------- Fold 4 -------------\n",
      "Training until validation scores don't improve for 100 rounds\n",
      "[100]\tvalid_0's rmse: 0.0117753\n",
      "[200]\tvalid_0's rmse: 0.0115699\n",
      "Early stopping, best iteration is:\n",
      "[179]\tvalid_0's rmse: 0.0114243\n",
      "\n",
      "AV metric score for validation set is 11.424257553604171\n",
      "\n",
      "------------- Fold 5 -------------\n",
      "Training until validation scores don't improve for 100 rounds\n",
      "[100]\tvalid_0's rmse: 0.0102625\n",
      "[200]\tvalid_0's rmse: 0.00950763\n",
      "[300]\tvalid_0's rmse: 0.00940099\n",
      "Early stopping, best iteration is:\n",
      "[245]\tvalid_0's rmse: 0.00930393\n",
      "\n",
      "AV metric score for validation set is 9.303927432980686\n",
      "\n",
      "\n",
      "AV metric for oofs is 26.476978478664517\n"
     ]
    },
    {
     "data": {
      "image/png": "[encoded data removed]",
      "text/plain": [
       "<Figure size 864x432 with 1 Axes>"
      ]
     },
     "metadata": {
      "needs_background": "light"
     },
     "output_type": "display_data"
    }
   ],
   "source": [
    "clf = LGBMRegressor(n_estimators = 1000,\n",
    "                        learning_rate = 0.05,\n",
    "                        colsample_bytree = 0.76,\n",
    "                        metric = 'None',\n",
    "                        )\n",
    "fit_params = {'verbose': 100, 'early_stopping_rounds': 100, 'eval_metric': 'rmse'}\n",
    "\n",
    "lgb_oofs, lgb_preds, fi = run_gradient_boosting(clf, fit_params, trn, val, cat_num_cols)"
   ]
  },
  {
   "cell_type": "markdown",
   "metadata": {},
   "source": [
    "**26.4**"
   ]
  },
  {
   "cell_type": "markdown",
   "metadata": {},
   "source": [
    "**Tuning Learning Rate**"
   ]
  },
  {
   "cell_type": "code",
   "execution_count": 113,
   "metadata": {},
   "outputs": [
    {
     "name": "stdout",
     "output_type": "stream",
     "text": [
      "\n",
      "------------- Fold 1 -------------\n",
      "Training until validation scores don't improve for 200 rounds\n",
      "[300]\tvalid_0's rmse: 0.0591475\n",
      "[600]\tvalid_0's rmse: 0.0560802\n",
      "[900]\tvalid_0's rmse: 0.0558184\n",
      "Early stopping, best iteration is:\n",
      "[812]\tvalid_0's rmse: 0.0558033\n",
      "\n",
      "AV metric score for validation set is 55.803276377789985\n",
      "\n",
      "------------- Fold 2 -------------\n",
      "Training until validation scores don't improve for 200 rounds\n",
      "[300]\tvalid_0's rmse: 0.0165308\n",
      "[600]\tvalid_0's rmse: 0.0110056\n",
      "[900]\tvalid_0's rmse: 0.0107666\n",
      "[1200]\tvalid_0's rmse: 0.0104589\n",
      "[1500]\tvalid_0's rmse: 0.0103046\n",
      "[1800]\tvalid_0's rmse: 0.0100593\n",
      "[2100]\tvalid_0's rmse: 0.00992567\n",
      "[2400]\tvalid_0's rmse: 0.00989128\n",
      "[2700]\tvalid_0's rmse: 0.00980079\n",
      "[3000]\tvalid_0's rmse: 0.0096542\n",
      "[3300]\tvalid_0's rmse: 0.00956931\n",
      "[3600]\tvalid_0's rmse: 0.0095298\n",
      "[3900]\tvalid_0's rmse: 0.00945946\n",
      "[4200]\tvalid_0's rmse: 0.00941657\n",
      "[4500]\tvalid_0's rmse: 0.00937536\n",
      "Early stopping, best iteration is:\n",
      "[4466]\tvalid_0's rmse: 0.00937281\n",
      "\n",
      "AV metric score for validation set is 9.37281421488389\n",
      "\n",
      "------------- Fold 3 -------------\n",
      "Training until validation scores don't improve for 200 rounds\n",
      "[300]\tvalid_0's rmse: 0.0166369\n",
      "[600]\tvalid_0's rmse: 0.00954468\n",
      "Early stopping, best iteration is:\n",
      "[677]\tvalid_0's rmse: 0.00945919\n",
      "\n",
      "AV metric score for validation set is 9.459193672074187\n",
      "\n",
      "------------- Fold 4 -------------\n",
      "Training until validation scores don't improve for 200 rounds\n",
      "[300]\tvalid_0's rmse: 0.0172781\n",
      "[600]\tvalid_0's rmse: 0.0122126\n",
      "Early stopping, best iteration is:\n",
      "[515]\tvalid_0's rmse: 0.0121213\n",
      "\n",
      "AV metric score for validation set is 12.121253414028944\n",
      "\n",
      "------------- Fold 5 -------------\n",
      "Training until validation scores don't improve for 200 rounds\n",
      "[300]\tvalid_0's rmse: 0.0162953\n",
      "[600]\tvalid_0's rmse: 0.0100668\n",
      "[900]\tvalid_0's rmse: 0.0095832\n",
      "[1200]\tvalid_0's rmse: 0.00944976\n",
      "[1500]\tvalid_0's rmse: 0.00944244\n",
      "Early stopping, best iteration is:\n",
      "[1389]\tvalid_0's rmse: 0.00940442\n",
      "\n",
      "AV metric score for validation set is 9.404420165293757\n",
      "\n",
      "\n",
      "AV metric for oofs is 26.561663292852828\n"
     ]
    },
    {
     "data": {
      "image/png": "[encoded data removed]",
      "text/plain": [
       "<Figure size 864x432 with 1 Axes>"
      ]
     },
     "metadata": {
      "needs_background": "light"
     },
     "output_type": "display_data"
    }
   ],
   "source": [
    "clf = LGBMRegressor(n_estimators = 5000,\n",
    "                        learning_rate = 0.01,\n",
    "                        colsample_bytree = 0.76,\n",
    "                        metric = 'None',\n",
    "                        )\n",
    "fit_params = {'verbose': 300, 'early_stopping_rounds': 200, 'eval_metric': 'rmse'}\n",
    "\n",
    "lgb_oofs, lgb_preds, fi = run_gradient_boosting(clf, fit_params, trn, val, cat_num_cols)"
   ]
  },
  {
   "cell_type": "markdown",
   "metadata": {},
   "source": [
    "**26.56**"
   ]
  },
  {
   "cell_type": "markdown",
   "metadata": {},
   "source": [
    "## **CatBoost**"
   ]
  },
  {
   "cell_type": "code",
   "execution_count": 114,
   "metadata": {},
   "outputs": [
    {
     "name": "stdout",
     "output_type": "stream",
     "text": [
      "\n",
      "------------- Fold 1 -------------\n",
      "0:\tlearn: 0.1370928\ttest: 0.1528949\tbest: 0.1528949 (0)\ttotal: 173ms\tremaining: 8m 39s\n",
      "200:\tlearn: 0.0379305\ttest: 0.0720951\tbest: 0.0720951 (200)\ttotal: 1.04s\tremaining: 14.5s\n",
      "400:\tlearn: 0.0150673\ttest: 0.0592228\tbest: 0.0592228 (400)\ttotal: 1.77s\tremaining: 11.5s\n",
      "600:\tlearn: 0.0089486\ttest: 0.0565673\tbest: 0.0565673 (600)\ttotal: 2.49s\tremaining: 9.94s\n",
      "800:\tlearn: 0.0066490\ttest: 0.0558244\tbest: 0.0558244 (800)\ttotal: 3.24s\tremaining: 8.9s\n",
      "1000:\tlearn: 0.0054792\ttest: 0.0555774\tbest: 0.0555774 (1000)\ttotal: 4s\tremaining: 7.99s\n",
      "1200:\tlearn: 0.0047806\ttest: 0.0554356\tbest: 0.0554356 (1200)\ttotal: 4.91s\tremaining: 7.36s\n",
      "1400:\tlearn: 0.0043237\ttest: 0.0553592\tbest: 0.0553592 (1400)\ttotal: 6.25s\tremaining: 7.13s\n",
      "1600:\tlearn: 0.0040015\ttest: 0.0553143\tbest: 0.0553143 (1600)\ttotal: 6.94s\tremaining: 6.07s\n",
      "1800:\tlearn: 0.0037654\ttest: 0.0552929\tbest: 0.0552888 (1795)\ttotal: 7.87s\tremaining: 5.24s\n",
      "2000:\tlearn: 0.0035782\ttest: 0.0552729\tbest: 0.0552728 (1997)\ttotal: 8.94s\tremaining: 4.46s\n",
      "2200:\tlearn: 0.0034306\ttest: 0.0552528\tbest: 0.0552519 (2190)\ttotal: 10.7s\tremaining: 3.89s\n",
      "2400:\tlearn: 0.0032946\ttest: 0.0552547\tbest: 0.0552498 (2316)\ttotal: 11.5s\tremaining: 2.87s\n",
      "Stopped by overfitting detector  (200 iterations wait)\n",
      "\n",
      "bestTest = 0.05524984734\n",
      "bestIteration = 2316\n",
      "\n",
      "Shrink model to first 2317 iterations.\n",
      "\n",
      "AV metric score for validation set is 55.24984720438793\n",
      "\n",
      "------------- Fold 2 -------------\n",
      "0:\tlearn: 0.1406408\ttest: 0.1393795\tbest: 0.1393795 (0)\ttotal: 7.32ms\tremaining: 22s\n",
      "200:\tlearn: 0.0467819\ttest: 0.0381079\tbest: 0.0381079 (200)\ttotal: 1.59s\tremaining: 22.2s\n",
      "400:\tlearn: 0.0270594\ttest: 0.0168075\tbest: 0.0168075 (400)\ttotal: 2.55s\tremaining: 16.5s\n",
      "600:\tlearn: 0.0202909\ttest: 0.0137492\tbest: 0.0137300 (599)\ttotal: 3.92s\tremaining: 15.7s\n",
      "800:\tlearn: 0.0165487\ttest: 0.0135560\tbest: 0.0135100 (793)\ttotal: 4.95s\tremaining: 13.6s\n",
      "Stopped by overfitting detector  (200 iterations wait)\n",
      "\n",
      "bestTest = 0.01350995049\n",
      "bestIteration = 793\n",
      "\n",
      "Shrink model to first 794 iterations.\n",
      "\n",
      "AV metric score for validation set is 13.509949115561437\n",
      "\n",
      "------------- Fold 3 -------------\n",
      "0:\tlearn: 0.1412265\ttest: 0.1370292\tbest: 0.1370292 (0)\ttotal: 4.29ms\tremaining: 12.9s\n",
      "200:\tlearn: 0.0468002\ttest: 0.0374819\tbest: 0.0374819 (200)\ttotal: 1.21s\tremaining: 16.9s\n",
      "400:\tlearn: 0.0267056\ttest: 0.0166091\tbest: 0.0166091 (400)\ttotal: 2.15s\tremaining: 14s\n",
      "600:\tlearn: 0.0195637\ttest: 0.0117837\tbest: 0.0117837 (600)\ttotal: 3.27s\tremaining: 13s\n",
      "800:\tlearn: 0.0157895\ttest: 0.0101495\tbest: 0.0101495 (800)\ttotal: 4.82s\tremaining: 13.2s\n",
      "1000:\tlearn: 0.0131445\ttest: 0.0092839\tbest: 0.0092839 (1000)\ttotal: 5.65s\tremaining: 11.3s\n",
      "1200:\tlearn: 0.0108890\ttest: 0.0087609\tbest: 0.0087609 (1200)\ttotal: 7.29s\tremaining: 10.9s\n",
      "1400:\tlearn: 0.0090206\ttest: 0.0083957\tbest: 0.0083957 (1400)\ttotal: 8.2s\tremaining: 9.36s\n",
      "1600:\tlearn: 0.0077726\ttest: 0.0080805\tbest: 0.0080735 (1599)\ttotal: 9.25s\tremaining: 8.08s\n",
      "1800:\tlearn: 0.0069305\ttest: 0.0078722\tbest: 0.0078689 (1795)\ttotal: 10.6s\tremaining: 7.03s\n",
      "2000:\tlearn: 0.0062600\ttest: 0.0077764\tbest: 0.0077759 (1999)\ttotal: 11.6s\tremaining: 5.8s\n",
      "2200:\tlearn: 0.0057029\ttest: 0.0077271\tbest: 0.0077262 (2195)\ttotal: 12.8s\tremaining: 4.64s\n",
      "2400:\tlearn: 0.0052475\ttest: 0.0077095\tbest: 0.0077068 (2288)\ttotal: 13.9s\tremaining: 3.46s\n",
      "2600:\tlearn: 0.0048761\ttest: 0.0077088\tbest: 0.0077014 (2514)\ttotal: 15s\tremaining: 2.29s\n",
      "Stopped by overfitting detector  (200 iterations wait)\n",
      "\n",
      "bestTest = 0.007701401632\n",
      "bestIteration = 2514\n",
      "\n",
      "Shrink model to first 2515 iterations.\n",
      "\n",
      "AV metric score for validation set is 7.701402697062155\n",
      "\n",
      "------------- Fold 4 -------------\n",
      "0:\tlearn: 0.1413491\ttest: 0.1365400\tbest: 0.1365400 (0)\ttotal: 11.8ms\tremaining: 35.4s\n",
      "200:\tlearn: 0.0468064\ttest: 0.0376699\tbest: 0.0376699 (200)\ttotal: 863ms\tremaining: 12s\n",
      "400:\tlearn: 0.0268756\ttest: 0.0171207\tbest: 0.0171207 (400)\ttotal: 2.45s\tremaining: 15.9s\n",
      "600:\tlearn: 0.0201088\ttest: 0.0128555\tbest: 0.0128437 (599)\ttotal: 3.41s\tremaining: 13.6s\n",
      "800:\tlearn: 0.0159576\ttest: 0.0117062\tbest: 0.0117034 (799)\ttotal: 4.19s\tremaining: 11.5s\n",
      "1000:\tlearn: 0.0130515\ttest: 0.0116628\tbest: 0.0115593 (938)\ttotal: 5.53s\tremaining: 11s\n",
      "Stopped by overfitting detector  (200 iterations wait)\n",
      "\n",
      "bestTest = 0.01155931618\n",
      "bestIteration = 938\n",
      "\n",
      "Shrink model to first 939 iterations.\n",
      "\n",
      "AV metric score for validation set is 11.559315458691346\n",
      "\n",
      "------------- Fold 5 -------------\n",
      "0:\tlearn: 0.1416053\ttest: 0.1354428\tbest: 0.1354428 (0)\ttotal: 4.81ms\tremaining: 14.4s\n",
      "200:\tlearn: 0.0469153\ttest: 0.0365484\tbest: 0.0365484 (200)\ttotal: 790ms\tremaining: 11s\n",
      "400:\tlearn: 0.0267284\ttest: 0.0161678\tbest: 0.0161678 (400)\ttotal: 2.43s\tremaining: 15.8s\n",
      "600:\tlearn: 0.0199070\ttest: 0.0114913\tbest: 0.0114913 (600)\ttotal: 3.31s\tremaining: 13.2s\n",
      "800:\tlearn: 0.0159404\ttest: 0.0098149\tbest: 0.0098149 (800)\ttotal: 4.4s\tremaining: 12.1s\n",
      "1000:\tlearn: 0.0130957\ttest: 0.0090467\tbest: 0.0090467 (1000)\ttotal: 5.82s\tremaining: 11.6s\n",
      "1200:\tlearn: 0.0107540\ttest: 0.0085388\tbest: 0.0085388 (1200)\ttotal: 6.5s\tremaining: 9.74s\n",
      "1400:\tlearn: 0.0090244\ttest: 0.0081812\tbest: 0.0081812 (1400)\ttotal: 7.76s\tremaining: 8.86s\n",
      "1600:\tlearn: 0.0077595\ttest: 0.0078906\tbest: 0.0078906 (1600)\ttotal: 8.86s\tremaining: 7.74s\n",
      "1800:\tlearn: 0.0068355\ttest: 0.0077272\tbest: 0.0077272 (1800)\ttotal: 9.63s\tremaining: 6.41s\n",
      "2000:\tlearn: 0.0061660\ttest: 0.0076238\tbest: 0.0076238 (1999)\ttotal: 11.1s\tremaining: 5.55s\n",
      "2200:\tlearn: 0.0055581\ttest: 0.0075719\tbest: 0.0075719 (2200)\ttotal: 11.9s\tremaining: 4.33s\n",
      "2400:\tlearn: 0.0050728\ttest: 0.0075692\tbest: 0.0075660 (2376)\ttotal: 12.7s\tremaining: 3.17s\n",
      "Stopped by overfitting detector  (200 iterations wait)\n",
      "\n",
      "bestTest = 0.007565977511\n",
      "bestIteration = 2376\n",
      "\n",
      "Shrink model to first 2377 iterations.\n",
      "\n",
      "AV metric score for validation set is 7.565978349552325\n",
      "\n",
      "\n",
      "AV metric for oofs is 26.405029409574162\n"
     ]
    },
    {
     "data": {
      "image/png": "[encoded data removed]",
      "text/plain": [
       "<Figure size 864x432 with 1 Axes>"
      ]
     },
     "metadata": {
      "needs_background": "light"
     },
     "output_type": "display_data"
    }
   ],
   "source": [
    "clf = CatBoostRegressor(n_estimators = 3000,\n",
    "                       learning_rate = 0.01,\n",
    "                       rsm = 0.4, ## Analogous to colsample_bytree\n",
    "                       random_state=2054,\n",
    "                       )\n",
    "\n",
    "fit_params = {'verbose': 200, 'early_stopping_rounds': 200}\n",
    "\n",
    "cb_oofs, cb_preds, fi = run_gradient_boosting(clf, fit_params, trn, val, cat_num_cols)"
   ]
  },
  {
   "cell_type": "markdown",
   "metadata": {},
   "source": [
    "**26.4**"
   ]
  },
  {
   "cell_type": "markdown",
   "metadata": {},
   "source": [
    "## XGBoost"
   ]
  },
  {
   "cell_type": "code",
   "execution_count": 115,
   "metadata": {
    "scrolled": true
   },
   "outputs": [
    {
     "name": "stdout",
     "output_type": "stream",
     "text": [
      "\n",
      "------------- Fold 1 -------------\n",
      "[0]\tvalidation_0-rmse:1.70734\n",
      "Will train until validation_0-rmse hasn't improved in 200 rounds.\n",
      "[200]\tvalidation_0-rmse:0.05253\n",
      "[400]\tvalidation_0-rmse:0.05147\n",
      "[600]\tvalidation_0-rmse:0.05122\n",
      "[800]\tvalidation_0-rmse:0.05113\n",
      "[999]\tvalidation_0-rmse:0.05107\n",
      "\n",
      "AV metric score for validation set is 51.07036692167877\n",
      "\n",
      "------------- Fold 2 -------------\n",
      "[0]\tvalidation_0-rmse:1.70756\n",
      "Will train until validation_0-rmse hasn't improved in 200 rounds.\n",
      "[200]\tvalidation_0-rmse:0.00800\n",
      "[400]\tvalidation_0-rmse:0.00595\n",
      "[600]\tvalidation_0-rmse:0.00529\n",
      "[800]\tvalidation_0-rmse:0.00503\n",
      "[999]\tvalidation_0-rmse:0.00488\n",
      "\n",
      "AV metric score for validation set is 4.883839486104545\n",
      "\n",
      "------------- Fold 3 -------------\n",
      "[0]\tvalidation_0-rmse:1.70921\n",
      "Will train until validation_0-rmse hasn't improved in 200 rounds.\n",
      "[200]\tvalidation_0-rmse:0.00816\n",
      "[400]\tvalidation_0-rmse:0.00624\n",
      "[600]\tvalidation_0-rmse:0.00566\n",
      "[800]\tvalidation_0-rmse:0.00540\n",
      "[999]\tvalidation_0-rmse:0.00524\n",
      "\n",
      "AV metric score for validation set is 5.238068970795088\n",
      "\n",
      "------------- Fold 4 -------------\n",
      "[0]\tvalidation_0-rmse:1.70825\n",
      "Will train until validation_0-rmse hasn't improved in 200 rounds.\n",
      "[200]\tvalidation_0-rmse:0.00904\n",
      "[400]\tvalidation_0-rmse:0.00725\n",
      "[600]\tvalidation_0-rmse:0.00674\n",
      "[800]\tvalidation_0-rmse:0.00653\n",
      "[999]\tvalidation_0-rmse:0.00640\n",
      "\n",
      "AV metric score for validation set is 6.402792119462194\n",
      "\n",
      "------------- Fold 5 -------------\n",
      "[0]\tvalidation_0-rmse:1.70863\n",
      "Will train until validation_0-rmse hasn't improved in 200 rounds.\n",
      "[200]\tvalidation_0-rmse:0.00742\n",
      "[400]\tvalidation_0-rmse:0.00572\n",
      "[600]\tvalidation_0-rmse:0.00514\n",
      "[800]\tvalidation_0-rmse:0.00490\n",
      "[999]\tvalidation_0-rmse:0.00477\n",
      "\n",
      "AV metric score for validation set is 4.773308500563649\n",
      "\n",
      "\n",
      "AV metric for oofs is 23.341086789998226\n"
     ]
    },
    {
     "data": {
      "image/png": "[encoded data removed]",
      "text/plain": [
       "<Figure size 864x432 with 1 Axes>"
      ]
     },
     "metadata": {
      "needs_background": "light"
     },
     "output_type": "display_data"
    }
   ],
   "source": [
    "clf = XGBRegressor(n_estimators = 1000,\n",
    "                    max_depth = 6,\n",
    "                    learning_rate = 0.05,\n",
    "                    colsample_bytree = 0.5,\n",
    "                    random_state=1452,\n",
    "                    )\n",
    "\n",
    "fit_params = {'verbose': 200, 'early_stopping_rounds': 200}\n",
    "\n",
    "xgb_oofs, xgb_preds, fi = run_gradient_boosting(clf, fit_params, trn, val, cat_num_cols)"
   ]
  },
  {
   "cell_type": "markdown",
   "metadata": {},
   "source": [
    "**23.34**"
   ]
  },
  {
   "cell_type": "code",
   "execution_count": null,
   "metadata": {},
   "outputs": [],
   "source": []
  }
 ],
 "metadata": {
  "kernelspec": {
   "display_name": "Python 3",
   "language": "python",
   "name": "python3"
  },
  "language_info": {
   "codemirror_mode": {
    "name": "ipython",
    "version": 3
   },
   "file_extension": ".py",
   "mimetype": "text/x-python",
   "name": "python",
   "nbconvert_exporter": "python",
   "pygments_lexer": "ipython3",
   "version": "3.8.3"
  }
 },
 "nbformat": 4,
 "nbformat_minor": 4
}
